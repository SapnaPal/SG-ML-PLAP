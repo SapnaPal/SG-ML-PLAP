{
 "cells": [
  {
   "cell_type": "code",
   "execution_count": 1,
   "id": "82e4db1a",
   "metadata": {},
   "outputs": [],
   "source": [
    "import pandas as pd\n",
    "import numpy as np\n",
    "from ecif import *\n",
    "from joblib import delayed, Parallel"
   ]
  },
  {
   "cell_type": "code",
   "execution_count": 3,
   "id": "c5c82efc",
   "metadata": {},
   "outputs": [],
   "source": [
    "\n",
    "Protein = {'pdb': ('../../pdbbind2020/general-set-except-refined/10gs/10gs_protein.pdb')}\n",
    "Ligand = {'pdb': ('../../pdbbind2020/general-set-except-refined/10gs/10gs_ligand.sdf')}\n",
    "\n",
    "list = GetECIF(Protein['pdb'], Ligand['pdb'], distance_cutoff=6.0)\n",
    "\n"
   ]
  },
  {
   "cell_type": "code",
   "execution_count": 5,
   "id": "a0b62d2e",
   "metadata": {},
   "outputs": [],
   "source": [
    "features = {'pdb': list}\n",
    "features_new = pd.DataFrame.from_dict(features).T\n",
    "features_new.columns = PossibleECIF\n",
    "\n",
    "\n"
   ]
  },
  {
   "cell_type": "code",
   "execution_count": 6,
   "id": "29ccaacb",
   "metadata": {},
   "outputs": [
    {
     "data": {
      "text/html": [
       "<div>\n",
       "<style scoped>\n",
       "    .dataframe tbody tr th:only-of-type {\n",
       "        vertical-align: middle;\n",
       "    }\n",
       "\n",
       "    .dataframe tbody tr th {\n",
       "        vertical-align: top;\n",
       "    }\n",
       "\n",
       "    .dataframe thead th {\n",
       "        text-align: right;\n",
       "    }\n",
       "</style>\n",
       "<table border=\"1\" class=\"dataframe\">\n",
       "  <thead>\n",
       "    <tr style=\"text-align: right;\">\n",
       "      <th></th>\n",
       "      <th>C;4;1;3;0;0-Br;1;1;0;0;0</th>\n",
       "      <th>C;4;1;3;0;0-C;3;3;0;1;1</th>\n",
       "      <th>C;4;1;3;0;0-C;4;1;1;0;0</th>\n",
       "      <th>C;4;1;3;0;0-C;4;1;2;0;0</th>\n",
       "      <th>C;4;1;3;0;0-C;4;1;3;0;0</th>\n",
       "      <th>C;4;1;3;0;0-C;4;2;0;0;0</th>\n",
       "      <th>C;4;1;3;0;0-C;4;2;1;0;0</th>\n",
       "      <th>C;4;1;3;0;0-C;4;2;1;0;1</th>\n",
       "      <th>C;4;1;3;0;0-C;4;2;1;1;1</th>\n",
       "      <th>C;4;1;3;0;0-C;4;2;2;0;0</th>\n",
       "      <th>...</th>\n",
       "      <th>S;2;2;0;0;0-S;2;1;1;0;0</th>\n",
       "      <th>S;2;2;0;0;0-S;2;2;0;0;0</th>\n",
       "      <th>S;2;2;0;0;0-S;2;2;0;0;1</th>\n",
       "      <th>S;2;2;0;0;0-S;2;2;0;1;1</th>\n",
       "      <th>S;2;2;0;0;0-S;3;3;0;0;0</th>\n",
       "      <th>S;2;2;0;0;0-S;3;3;0;0;1</th>\n",
       "      <th>S;2;2;0;0;0-S;4;3;0;0;0</th>\n",
       "      <th>S;2;2;0;0;0-S;6;4;0;0;0</th>\n",
       "      <th>S;2;2;0;0;0-S;6;4;0;0;1</th>\n",
       "      <th>S;2;2;0;0;0-S;7;4;0;0;0</th>\n",
       "    </tr>\n",
       "  </thead>\n",
       "  <tbody>\n",
       "    <tr>\n",
       "      <th>pdb</th>\n",
       "      <td>0</td>\n",
       "      <td>0</td>\n",
       "      <td>0</td>\n",
       "      <td>0</td>\n",
       "      <td>0</td>\n",
       "      <td>0</td>\n",
       "      <td>0</td>\n",
       "      <td>9</td>\n",
       "      <td>0</td>\n",
       "      <td>1</td>\n",
       "      <td>...</td>\n",
       "      <td>0</td>\n",
       "      <td>0</td>\n",
       "      <td>0</td>\n",
       "      <td>0</td>\n",
       "      <td>0</td>\n",
       "      <td>0</td>\n",
       "      <td>0</td>\n",
       "      <td>0</td>\n",
       "      <td>0</td>\n",
       "      <td>0</td>\n",
       "    </tr>\n",
       "  </tbody>\n",
       "</table>\n",
       "<p>1 rows × 1540 columns</p>\n",
       "</div>"
      ],
      "text/plain": [
       "     C;4;1;3;0;0-Br;1;1;0;0;0  C;4;1;3;0;0-C;3;3;0;1;1  \\\n",
       "pdb                         0                        0   \n",
       "\n",
       "     C;4;1;3;0;0-C;4;1;1;0;0  C;4;1;3;0;0-C;4;1;2;0;0  \\\n",
       "pdb                        0                        0   \n",
       "\n",
       "     C;4;1;3;0;0-C;4;1;3;0;0  C;4;1;3;0;0-C;4;2;0;0;0  \\\n",
       "pdb                        0                        0   \n",
       "\n",
       "     C;4;1;3;0;0-C;4;2;1;0;0  C;4;1;3;0;0-C;4;2;1;0;1  \\\n",
       "pdb                        0                        9   \n",
       "\n",
       "     C;4;1;3;0;0-C;4;2;1;1;1  C;4;1;3;0;0-C;4;2;2;0;0  ...  \\\n",
       "pdb                        0                        1  ...   \n",
       "\n",
       "     S;2;2;0;0;0-S;2;1;1;0;0  S;2;2;0;0;0-S;2;2;0;0;0  \\\n",
       "pdb                        0                        0   \n",
       "\n",
       "     S;2;2;0;0;0-S;2;2;0;0;1  S;2;2;0;0;0-S;2;2;0;1;1  \\\n",
       "pdb                        0                        0   \n",
       "\n",
       "     S;2;2;0;0;0-S;3;3;0;0;0  S;2;2;0;0;0-S;3;3;0;0;1  \\\n",
       "pdb                        0                        0   \n",
       "\n",
       "     S;2;2;0;0;0-S;4;3;0;0;0  S;2;2;0;0;0-S;6;4;0;0;0  \\\n",
       "pdb                        0                        0   \n",
       "\n",
       "     S;2;2;0;0;0-S;6;4;0;0;1  S;2;2;0;0;0-S;7;4;0;0;0  \n",
       "pdb                        0                        0  \n",
       "\n",
       "[1 rows x 1540 columns]"
      ]
     },
     "execution_count": 6,
     "metadata": {},
     "output_type": "execute_result"
    }
   ],
   "source": [
    "features_new"
   ]
  },
  {
   "cell_type": "code",
   "execution_count": 8,
   "id": "cb967646",
   "metadata": {},
   "outputs": [],
   "source": [
    "import joblib\n",
    "\n",
    "rf_model = joblib.load('../ML_SF_PDBBIND2020/rf_model.sav')\n",
    "y_pred_rf = rf_model.predict(features_new)"
   ]
  },
  {
   "cell_type": "code",
   "execution_count": 9,
   "id": "063d90d5",
   "metadata": {},
   "outputs": [
    {
     "data": {
      "text/plain": [
       "array([5.74873333])"
      ]
     },
     "execution_count": 9,
     "metadata": {},
     "output_type": "execute_result"
    }
   ],
   "source": [
    "y_pred_rf"
   ]
  },
  {
   "cell_type": "code",
   "execution_count": null,
   "id": "569f2878",
   "metadata": {},
   "outputs": [],
   "source": []
  },
  {
   "cell_type": "code",
   "execution_count": null,
   "id": "2a387a18",
   "metadata": {},
   "outputs": [],
   "source": []
  },
  {
   "cell_type": "code",
   "execution_count": null,
   "id": "3e4197fb",
   "metadata": {},
   "outputs": [],
   "source": []
  },
  {
   "cell_type": "code",
   "execution_count": 19,
   "id": "5ebd164c",
   "metadata": {},
   "outputs": [
    {
     "name": "stderr",
     "output_type": "stream",
     "text": [
      "usage: ipykernel_launcher.py [-h] -n NAME -p PROTEIN_PATH -l LIGAND_PATH\n",
      "ipykernel_launcher.py: error: the following arguments are required: -n/--name, -p/--protein_path, -l/--ligand_path\n"
     ]
    },
    {
     "ename": "SystemExit",
     "evalue": "2",
     "output_type": "error",
     "traceback": [
      "An exception has occurred, use %tb to see the full traceback.\n",
      "\u001b[0;31mSystemExit\u001b[0m\u001b[0;31m:\u001b[0m 2\n"
     ]
    },
    {
     "name": "stderr",
     "output_type": "stream",
     "text": [
      "/Users/sapnapal/anaconda3/lib/python3.8/site-packages/IPython/core/interactiveshell.py:3377: UserWarning: To exit: use 'exit', 'quit', or Ctrl-D.\n",
      "  warn(\"To exit: use 'exit', 'quit', or Ctrl-D.\", stacklevel=1)\n"
     ]
    }
   ],
   "source": [
    "import pandas as pd\n",
    "import numpy as np\n",
    "from ecif import *\n",
    "from joblib import delayed, Parallel\n",
    "\n",
    "import argparse\n",
    "\n",
    "parser = argparse.ArgumentParser(description=\"Just an example\",\n",
    "                                 formatter_class=argparse.ArgumentDefaultsHelpFormatter)\n",
    "\n",
    "parser.add_argument(\"-n\", \"--name\", required=True, help=\"name of protein/pdb\")\n",
    "parser.add_argument(\"-p\", \"--protein_path\", required=True, help=\"path of protein\")\n",
    "parser.add_argument(\"-l\", \"--ligand_path\", required=True, help=\"path of ligand\")\n",
    "args = parser.parse_args()\n",
    "\n",
    "Protein = {args.name: (args.protein_path)}\n",
    "Ligand = {args.name: (args.ligand_path)}\n",
    "\n",
    "list = GetECIF(Protein[args.name], Ligand[args.name], distance_cutoff=6.0)\n",
    "\n",
    "features = {args.name: list}\n",
    "features_new = pd.DataFrame.from_dict(features).T\n",
    "features_new.columns = PossibleECIF\n",
    "features_new.to_csv('feature.csv')"
   ]
  },
  {
   "cell_type": "code",
   "execution_count": null,
   "id": "6e25f272",
   "metadata": {},
   "outputs": [],
   "source": [
    "import pandas as pd\n",
    "import joblib\n",
    "import argparse\n",
    "\n",
    "\n",
    "parser = argparse.ArgumentParser(description=\"Just an example\",\n",
    "                                 formatter_class=argparse.ArgumentDefaultsHelpFormatter)\n",
    "\n",
    "parser.add_argument(\"-f\", \"--feature\", required=True, help=\"name of protein/pdb\")\n",
    "\n",
    "rf_model = joblib.load('../ML_SF_PDBBIND2020/rf_model.sav')\n",
    "feature = pd.read_csv(args.feature, index_col=0)\n",
    "y_pred_rf = rf_model.predict(feature)\n",
    "df = pd.DataFrame(y_pred_rf)\n",
    "df.to_csv('prediction.csv')"
   ]
  },
  {
   "cell_type": "code",
   "execution_count": null,
   "id": "eb9f12d1-3625-4c96-a37c-921bf958eae3",
   "metadata": {},
   "outputs": [],
   "source": []
  },
  {
   "cell_type": "code",
   "execution_count": null,
   "id": "b6ba58a7-3685-4225-b94d-a2bdf53089ef",
   "metadata": {},
   "outputs": [],
   "source": []
  },
  {
   "cell_type": "code",
   "execution_count": null,
   "id": "daa593e8-96e5-480e-a41f-9ae751b7eee4",
   "metadata": {},
   "outputs": [],
   "source": []
  },
  {
   "cell_type": "code",
   "execution_count": null,
   "id": "216c68b3-c75b-4023-b8b9-926329536662",
   "metadata": {},
   "outputs": [],
   "source": [
    "\n",
    "Protein = {'pdb': ('example_10gs/10gs_protein.pdb')}\n",
    "Ligand = {'pdb': ('ligands/')}\n",
    "\n",
    "list = GetECIF(Protein['pdb'], Ligand['pdb'], distance_cutoff=6.0)\n",
    "\n"
   ]
  },
  {
   "cell_type": "code",
   "execution_count": null,
   "id": "8a4ed1ef",
   "metadata": {},
   "outputs": [],
   "source": []
  }
 ],
 "metadata": {
  "kernelspec": {
   "display_name": "Python 3 (ipykernel)",
   "language": "python",
   "name": "python3"
  },
  "language_info": {
   "codemirror_mode": {
    "name": "ipython",
    "version": 3
   },
   "file_extension": ".py",
   "mimetype": "text/x-python",
   "name": "python",
   "nbconvert_exporter": "python",
   "pygments_lexer": "ipython3",
   "version": "3.10.14"
  }
 },
 "nbformat": 4,
 "nbformat_minor": 5
}
